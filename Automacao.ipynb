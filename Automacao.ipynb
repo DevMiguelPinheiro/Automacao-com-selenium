{
 "cells": [
  {
   "cell_type": "code",
   "execution_count": null,
   "id": "02eec070",
   "metadata": {},
   "outputs": [],
   "source": [
    "#instalar as libs\n",
    "!pip install selenium\n",
    "!pip install webdriver-manager\n"
   ]
  },
  {
   "cell_type": "code",
   "execution_count": 11,
   "id": "0c53f116",
   "metadata": {},
   "outputs": [
    {
     "name": "stdout",
     "output_type": "stream",
     "text": [
      "Tempo de viagem : 20 min\n"
     ]
    }
   ],
   "source": [
    "from selenium import webdriver\n",
    "from selenium.webdriver.chrome.options import Options\n",
    "from selenium.webdriver.chrome.service import Service\n",
    "from webdriver_manager.chrome import ChromeDriverManager\n",
    "from selenium.webdriver.common.action_chains import ActionChains\n",
    "from selenium.webdriver.support.ui import WebDriverWait\n",
    "from selenium.webdriver.support import expected_conditions as EC\n",
    "from selenium.webdriver.common.by import By\n",
    "from selenium.webdriver.common.keys import Keys\n",
    "from time import sleep\n",
    "\n",
    "# Crie uma instância de Options\n",
    "chrome_options = Options()\n",
    "\n",
    "# Inicialize o Chrome com o Service\n",
    "service = Service(ChromeDriverManager().install())\n",
    "driver = webdriver.Chrome(service=service, options=chrome_options)\n",
    "\n",
    "# Abrir a URL do Google Maps\n",
    "driver.get('https://www.google.com.br/maps/')\n",
    "sleep(2)\n",
    "\n",
    "def search_place(element_name):\n",
    "    # Use um seletor mais robusto para encontrar o campo de busca\n",
    "    wait = WebDriverWait(driver, 10)\n",
    "    place = wait.until(EC.presence_of_element_located((By.NAME, element_name)))\n",
    "    actions = ActionChains(driver)\n",
    "    actions.move_to_element(place).click().send_keys('Instituto Federal do Amazonas - Campus Manaus Leste').send_keys(Keys.RETURN).perform()\n",
    "\n",
    "\n",
    "def search_place_by_class(element_class,destino):\n",
    "    # Use um seletor mais robusto para encontrar o campo de busca\n",
    "    wait = WebDriverWait(driver, 10)\n",
    "    place = wait.until(EC.presence_of_element_located((By.CLASS_NAME, element_class)))\n",
    "    actions = ActionChains(driver)\n",
    "    actions.move_to_element(place).click().send_keys(destino).send_keys(Keys.RETURN).perform()\n",
    "\n",
    "def rota():\n",
    "    rota = WebDriverWait(driver, 10)\n",
    "    place = rota.until(EC.presence_of_element_located((By.XPATH, \"/html/body/div[1]/div[3]/div[8]/div[9]/div/div/div[1]/div[2]/div/div[1]/div/div/div[4]/div[1]/button\")))\n",
    "    actions = ActionChains(driver)\n",
    "    actions.move_to_element(place).click().perform()\n",
    "    \n",
    "def get_element_value_by_xpath(xpath):\n",
    "    # Aguarde até que o elemento esteja presente na página\n",
    "    wait = WebDriverWait(driver, 10)\n",
    "    element = wait.until(EC.presence_of_element_located((By.XPATH, xpath)))\n",
    "    \n",
    "    # Obtenha o valor do elemento\n",
    "    element_value = element.text\n",
    "    \n",
    "    return element_value\n",
    "\n",
    "# Chame a função para obter o valor do elemento desejado\n",
    "# Chame a função de pesquisa\n",
    "search_place(\"q\")\n",
    "sleep(5)\n",
    "rota()\n",
    "search_place_by_class(\"tactile-searchbox-input\",'Instituto Federal do Amazonas - Campus Manaus Centro, Av. Sete de Setembro, 1975 - Centro, Manaus - AM, 69020-120')\n",
    "# Aguarde alguns segundos para visualização\n",
    "sleep(5)\n",
    "element_value = get_element_value_by_xpath(\"/html/body/div[1]/div[3]/div[8]/div[9]/div/div/div[1]/div[2]/div/div[1]/div/div/div[4]/div[1]/div[1]/div/div[1]/div[1]\")\n",
    "\n",
    "# Imprima o valor obtido\n",
    "print(\"Tempo de viagem :\", element_value)\n",
    "    \n",
    "\n",
    "# Feche o navegador\n",
    "#driver.quit()\n"
   ]
  },
  {
   "cell_type": "code",
   "execution_count": null,
   "id": "0b0120b1",
   "metadata": {},
   "outputs": [],
   "source": []
  }
 ],
 "metadata": {
  "kernelspec": {
   "display_name": "Python 3 (ipykernel)",
   "language": "python",
   "name": "python3"
  },
  "language_info": {
   "codemirror_mode": {
    "name": "ipython",
    "version": 3
   },
   "file_extension": ".py",
   "mimetype": "text/x-python",
   "name": "python",
   "nbconvert_exporter": "python",
   "pygments_lexer": "ipython3",
   "version": "3.9.13"
  }
 },
 "nbformat": 4,
 "nbformat_minor": 5
}
